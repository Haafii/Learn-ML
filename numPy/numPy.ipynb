{
 "cells": [
  {
   "cell_type": "markdown",
   "metadata": {},
   "source": [
    "NumPy - Numerical Python\n",
    "Advantages of Numpy Arrays:\n",
    "  1. Allows several Mathematical Operations\n",
    "  2. Faster operations"
   ]
  },
  {
   "cell_type": "code",
   "execution_count": 1,
   "metadata": {},
   "outputs": [],
   "source": [
    "import numpy as np"
   ]
  },
  {
   "cell_type": "code",
   "execution_count": 2,
   "metadata": {},
   "outputs": [
    {
     "name": "stdout",
     "output_type": "stream",
     "text": [
      "[1 2 3 4 5]\n"
     ]
    },
    {
     "data": {
      "text/plain": [
       "numpy.ndarray"
      ]
     },
     "execution_count": 2,
     "metadata": {},
     "output_type": "execute_result"
    }
   ],
   "source": [
    "np_array = np.array([1, 2, 3, 4, 5])\n",
    "print(np_array)\n",
    "type(np_array)"
   ]
  },
  {
   "cell_type": "code",
   "execution_count": 3,
   "metadata": {},
   "outputs": [
    {
     "name": "stdout",
     "output_type": "stream",
     "text": [
      "[1 2 3 4 5]\n",
      "(5,)\n"
     ]
    }
   ],
   "source": [
    "# One Dimensional array \n",
    "a = np.array([1, 2, 3, 4, 5])\n",
    "print(a)\n",
    "print(a.shape)"
   ]
  },
  {
   "cell_type": "code",
   "execution_count": 4,
   "metadata": {},
   "outputs": [
    {
     "name": "stdout",
     "output_type": "stream",
     "text": [
      "[[ 1  2  3  4  5]\n",
      " [ 6  7  8  9 10]]\n",
      "(2, 5)\n"
     ]
    }
   ],
   "source": [
    "# Two Dimensional array \n",
    "b = np.array([(1, 2, 3, 4, 5), (6, 7, 8, 9, 10)])\n",
    "print(b)\n",
    "print(b.shape)"
   ]
  },
  {
   "cell_type": "code",
   "execution_count": 5,
   "metadata": {},
   "outputs": [
    {
     "name": "stdout",
     "output_type": "stream",
     "text": [
      "[[0. 0. 0. 0. 0.]\n",
      " [0. 0. 0. 0. 0.]\n",
      " [0. 0. 0. 0. 0.]\n",
      " [0. 0. 0. 0. 0.]]\n"
     ]
    }
   ],
   "source": [
    "# Create array with all values are Zero\n",
    "c = np.zeros((4, 5)) # 4 * 5 array (4 rows and 5 columns)  \n",
    "print(c)"
   ]
  },
  {
   "cell_type": "code",
   "execution_count": 6,
   "metadata": {},
   "outputs": [
    {
     "name": "stdout",
     "output_type": "stream",
     "text": [
      "[[1. 1. 1. 1. 1.]\n",
      " [1. 1. 1. 1. 1.]\n",
      " [1. 1. 1. 1. 1.]\n",
      " [1. 1. 1. 1. 1.]]\n"
     ]
    }
   ],
   "source": [
    "# Create array with all values are Ones\n",
    "d = np.ones((4, 5)) # 4 * 5 array (4 rows and 5 columns)  \n",
    "print(d)"
   ]
  },
  {
   "cell_type": "code",
   "execution_count": 7,
   "metadata": {},
   "outputs": [
    {
     "name": "stdout",
     "output_type": "stream",
     "text": [
      "[[10 10 10 10 10]\n",
      " [10 10 10 10 10]\n",
      " [10 10 10 10 10]\n",
      " [10 10 10 10 10]]\n"
     ]
    }
   ],
   "source": [
    "# Create array with a particular value\n",
    "d = np.full((4, 5), 10) # 4 * 5 array (4 rows and 5 columns) with all values are 10\n",
    "print(d)"
   ]
  },
  {
   "cell_type": "code",
   "execution_count": 8,
   "metadata": {},
   "outputs": [
    {
     "name": "stdout",
     "output_type": "stream",
     "text": [
      "[[1. 0. 0. 0. 0.]\n",
      " [0. 1. 0. 0. 0.]\n",
      " [0. 0. 1. 0. 0.]\n",
      " [0. 0. 0. 1. 0.]\n",
      " [0. 0. 0. 0. 1.]]\n"
     ]
    }
   ],
   "source": [
    "# Create identity matrix \n",
    "e = np.eye(5) # 5 * 5 identity matrix\n",
    "print(e)"
   ]
  },
  {
   "cell_type": "code",
   "execution_count": 9,
   "metadata": {},
   "outputs": [
    {
     "name": "stdout",
     "output_type": "stream",
     "text": [
      "[[0.7094888  0.23927357 0.12575008 0.29224042 0.71076733]\n",
      " [0.20544197 0.97071333 0.52613262 0.81498588 0.75214093]\n",
      " [0.21613422 0.32037617 0.586503   0.48211764 0.2088106 ]\n",
      " [0.63514565 0.07823533 0.99116766 0.83780798 0.36197921]]\n"
     ]
    }
   ],
   "source": [
    "# Create a array with random element\n",
    "f = np.random.random((4, 5)) # 4 * 5 array with random values\n",
    "print(f)"
   ]
  },
  {
   "cell_type": "code",
   "execution_count": 10,
   "metadata": {},
   "outputs": [
    {
     "name": "stdout",
     "output_type": "stream",
     "text": [
      "[[ 7 98 74 17 84]\n",
      " [95 37  4 21 24]\n",
      " [10 84 68 22  7]\n",
      " [ 5 17 29 36 84]]\n"
     ]
    }
   ],
   "source": [
    "# Create random integer values array\n",
    "g = np.random.randint(1, 100, (4, 5)) # 4 * 5 array with random integer values between 1 and 100\n",
    "print(g)"
   ]
  },
  {
   "cell_type": "code",
   "execution_count": 11,
   "metadata": {},
   "outputs": [
    {
     "name": "stdout",
     "output_type": "stream",
     "text": [
      "(4, 5)\n",
      "2\n",
      "20\n",
      "int64\n"
     ]
    }
   ],
   "source": [
    "# array shape\n",
    "print(g.shape)\n",
    "# array number of dimension \n",
    "print(g.ndim)\n",
    "# number of elements in array\n",
    "print(g.size)\n",
    "# checking datatype values in the array\n",
    "print(g.dtype)"
   ]
  },
  {
   "cell_type": "code",
   "execution_count": 12,
   "metadata": {},
   "outputs": [
    {
     "name": "stdout",
     "output_type": "stream",
     "text": [
      "[[15 26 21]\n",
      " [21 22 25]\n",
      " [27 10 28]]\n",
      "[[3 7 7]\n",
      " [3 8 3]\n",
      " [8 2 3]]\n"
     ]
    }
   ],
   "source": [
    "# Mathematical operations on np array \n",
    "a = np.random.randint(10, 30, (3, 3))\n",
    "b = np.random.randint(1, 10, (3, 3))\n",
    "print(a)\n",
    "print(b)"
   ]
  },
  {
   "cell_type": "code",
   "execution_count": 13,
   "metadata": {},
   "outputs": [
    {
     "name": "stdout",
     "output_type": "stream",
     "text": [
      "[[18 33 28]\n",
      " [24 30 28]\n",
      " [35 12 31]]\n",
      "[[18 33 28]\n",
      " [24 30 28]\n",
      " [35 12 31]]\n",
      "[[12 19 14]\n",
      " [18 14 22]\n",
      " [19  8 25]]\n",
      "[[12 19 14]\n",
      " [18 14 22]\n",
      " [19  8 25]]\n",
      "[[ 45 182 147]\n",
      " [ 63 176  75]\n",
      " [216  20  84]]\n",
      "[[ 45 182 147]\n",
      " [ 63 176  75]\n",
      " [216  20  84]]\n",
      "[[5.         3.71428571 3.        ]\n",
      " [7.         2.75       8.33333333]\n",
      " [3.375      5.         9.33333333]]\n",
      "[[5.         3.71428571 3.        ]\n",
      " [7.         2.75       8.33333333]\n",
      " [3.375      5.         9.33333333]]\n"
     ]
    }
   ],
   "source": [
    "# addition \n",
    "print(a + b) # element wise addition \n",
    "print(np.add(a, b)) # element wise addition\n",
    "\n",
    "\n",
    "# subtraction\n",
    "print(a - b) # element wise subtraction\n",
    "print(np.subtract(a, b)) # element wise subtraction\n",
    "\n",
    "\n",
    "# multiplication\n",
    "print(a * b) # element wise multiplication\n",
    "print(np.multiply(a, b)) # element wise multiplication\n",
    "\n",
    "\n",
    "# division\n",
    "print(a / b) # element wise division\n",
    "print(np.divide(a, b)) # element wise division"
   ]
  },
  {
   "cell_type": "code",
   "execution_count": 14,
   "metadata": {},
   "outputs": [
    {
     "name": "stdout",
     "output_type": "stream",
     "text": [
      "[[3.87298335 5.09901951 4.58257569]\n",
      " [4.58257569 4.69041576 5.        ]\n",
      " [5.19615242 3.16227766 5.29150262]]\n",
      "[[3.26901737e+06 1.95729609e+11 1.31881573e+09]\n",
      " [1.31881573e+09 3.58491285e+09 7.20048993e+10]\n",
      " [5.32048241e+11 2.20264658e+04 1.44625706e+12]]\n"
     ]
    }
   ],
   "source": [
    "# square root\n",
    "print(np.sqrt(a))\n",
    "\n",
    "# exponentiation\n",
    "print(np.exp(a))"
   ]
  },
  {
   "cell_type": "code",
   "execution_count": 15,
   "metadata": {},
   "outputs": [
    {
     "name": "stdout",
     "output_type": "stream",
     "text": [
      "[[ 0.65028784  0.76255845  0.83665564]\n",
      " [ 0.83665564 -0.00885131 -0.13235175]\n",
      " [ 0.95637593 -0.54402111  0.27090579]]\n",
      "[[-0.75968791  0.64691932 -0.54772926]\n",
      " [-0.54772926 -0.99996083  0.99120281]\n",
      " [-0.29213881 -0.83907153 -0.96260587]]\n",
      "[[2.7080502  3.25809654 3.04452244]\n",
      " [3.04452244 3.09104245 3.21887582]\n",
      " [3.29583687 2.30258509 3.33220451]]\n"
     ]
    }
   ],
   "source": [
    "# sin\n",
    "print(np.sin(a))\n",
    "\n",
    "# cos\n",
    "print(np.cos(a))\n",
    "\n",
    "# log\n",
    "print(np.log(a))\n"
   ]
  },
  {
   "cell_type": "code",
   "execution_count": 16,
   "metadata": {},
   "outputs": [
    {
     "name": "stdout",
     "output_type": "stream",
     "text": [
      "[[291 355 246]\n",
      " [329 373 288]\n",
      " [335 325 303]]\n",
      "[[291 355 246]\n",
      " [329 373 288]\n",
      " [335 325 303]]\n",
      "[[15 21 27]\n",
      " [26 22 10]\n",
      " [21 25 28]]\n",
      "[[15 21 27]\n",
      " [26 22 10]\n",
      " [21 25 28]]\n"
     ]
    }
   ],
   "source": [
    "# dot product\n",
    "print(np.dot(a, b))\n",
    "\n",
    "# matrix multiplication\n",
    "print(np.matmul(a, b))\n",
    "\n",
    "# transpose\n",
    "trans = np.transpose(a)\n",
    "print(trans)\n",
    "print(a.T) # another method "
   ]
  },
  {
   "cell_type": "code",
   "execution_count": 17,
   "metadata": {},
   "outputs": [
    {
     "name": "stdout",
     "output_type": "stream",
     "text": [
      "195\n",
      "[63 58 74]\n",
      "[62 68 65]\n",
      "21.666666666666668\n",
      "[21.         19.33333333 24.66666667]\n",
      "[20.66666667 22.66666667 21.66666667]\n",
      "22.0\n",
      "[21. 22. 25.]\n",
      "[21. 22. 27.]\n",
      "28\n",
      "[27 26 28]\n",
      "[26 25 28]\n",
      "10\n",
      "[15 10 21]\n",
      "[15 21 10]\n"
     ]
    }
   ],
   "source": [
    "# sum of all elements\n",
    "print(np.sum(a))\n",
    "\n",
    "# sum of each column\n",
    "print(np.sum(a, axis=0))\n",
    "\n",
    "# sum of each row\n",
    "print(np.sum(a, axis=1))\n",
    "\n",
    "# mean of all elements\n",
    "print(np.mean(a))\n",
    "\n",
    "# mean of each column\n",
    "print(np.mean(a, axis=0))\n",
    "\n",
    "# mean of each row\n",
    "print(np.mean(a, axis=1))\n",
    "\n",
    "# median of all elements\n",
    "print(np.median(a))\n",
    "\n",
    "# median of each column\n",
    "print(np.median(a, axis=0))\n",
    "\n",
    "# median of each row\n",
    "print(np.median(a, axis=1))\n",
    "\n",
    "# maximum of all elements\n",
    "print(np.max(a))\n",
    "\n",
    "# maximum of each column\n",
    "print(np.max(a, axis=0))\n",
    "\n",
    "# maximum of each row\n",
    "print(np.max(a, axis=1))\n",
    "\n",
    "# minimum of all elements\n",
    "print(np.min(a))\n",
    "\n",
    "# minimum of each column\n",
    "print(np.min(a, axis=0))\n",
    "\n",
    "# minimum of each row\n",
    "print(np.min(a, axis=1))"
   ]
  },
  {
   "cell_type": "code",
   "execution_count": 18,
   "metadata": {},
   "outputs": [
    {
     "name": "stdout",
     "output_type": "stream",
     "text": [
      "[[15 21 26]\n",
      " [21 22 25]\n",
      " [10 27 28]]\n"
     ]
    }
   ],
   "source": [
    "# sort\n",
    "print(np.sort(a))"
   ]
  },
  {
   "cell_type": "code",
   "execution_count": 19,
   "metadata": {},
   "outputs": [
    {
     "name": "stdout",
     "output_type": "stream",
     "text": [
      "[[26 82 10 14 98]\n",
      " [23 77 27 43 28]\n",
      " [71 46 59 48 66]\n",
      " [94 70 40 60 18]]\n",
      "(4, 5)\n",
      "[[26 82 10 14]\n",
      " [98 23 77 27]\n",
      " [43 28 71 46]\n",
      " [59 48 66 94]\n",
      " [70 40 60 18]]\n",
      "(5, 4)\n"
     ]
    }
   ],
   "source": [
    "# reshape array\n",
    "a = np.random.randint(10, 100, (4, 5))\n",
    "print(a)\n",
    "print(a.shape)\n",
    "b = a.reshape(5, 4)\n",
    "print(b)\n",
    "print(b.shape)"
   ]
  }
 ],
 "metadata": {
  "kernelspec": {
   "display_name": "myenv",
   "language": "python",
   "name": "python3"
  },
  "language_info": {
   "codemirror_mode": {
    "name": "ipython",
    "version": 3
   },
   "file_extension": ".py",
   "mimetype": "text/x-python",
   "name": "python",
   "nbconvert_exporter": "python",
   "pygments_lexer": "ipython3",
   "version": "3.12.3"
  }
 },
 "nbformat": 4,
 "nbformat_minor": 2
}
